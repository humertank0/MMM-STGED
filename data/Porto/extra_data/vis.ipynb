{
 "cells": [
  {
   "cell_type": "code",
   "id": "initial_id",
   "metadata": {
    "collapsed": true,
    "ExecuteTime": {
     "end_time": "2025-01-17T02:23:59.832127Z",
     "start_time": "2025-01-17T02:23:59.823141Z"
    }
   },
   "source": [
    "import numpy as np\n",
    "import pandas as pd"
   ],
   "outputs": [],
   "execution_count": 9
  },
  {
   "metadata": {
    "ExecuteTime": {
     "end_time": "2025-01-17T02:24:01.021379Z",
     "start_time": "2025-01-17T02:24:00.966309Z"
    }
   },
   "cell_type": "code",
   "source": [
    "se = pd.read_csv('Porto_SE.txt', sep='\\t', header=None)\n",
    "se"
   ],
   "id": "820094f97a49e4fe",
   "outputs": [
    {
     "data": {
      "text/plain": [
       "                                                      0\n",
       "0                                               2224 64\n",
       "1     217 0.5083597 0.40743363 0.7144756 -1.242985 -...\n",
       "2     650 0.22670893 0.021896597 -0.14305055 -0.6591...\n",
       "3     377 0.19525497 0.582358 0.1646906 -0.80686563 ...\n",
       "4     57 -0.50423735 -0.67866814 0.20260465 -0.14068...\n",
       "...                                                 ...\n",
       "2220  429 0.4495843 0.27927622 0.9138314 -2.119679 -...\n",
       "2221  1281 -1.1306024 1.0658451 -0.45200333 -1.10590...\n",
       "2222  669 -0.02697037 0.014903488 -1.2228172 0.29446...\n",
       "2223  903 -1.050806 0.1854059 -0.5800011 -1.5143213 ...\n",
       "2224  133 0.77323127 0.7057826 0.867303 -0.02012687 ...\n",
       "\n",
       "[2225 rows x 1 columns]"
      ],
      "text/html": [
       "<div>\n",
       "<style scoped>\n",
       "    .dataframe tbody tr th:only-of-type {\n",
       "        vertical-align: middle;\n",
       "    }\n",
       "\n",
       "    .dataframe tbody tr th {\n",
       "        vertical-align: top;\n",
       "    }\n",
       "\n",
       "    .dataframe thead th {\n",
       "        text-align: right;\n",
       "    }\n",
       "</style>\n",
       "<table border=\"1\" class=\"dataframe\">\n",
       "  <thead>\n",
       "    <tr style=\"text-align: right;\">\n",
       "      <th></th>\n",
       "      <th>0</th>\n",
       "    </tr>\n",
       "  </thead>\n",
       "  <tbody>\n",
       "    <tr>\n",
       "      <th>0</th>\n",
       "      <td>2224 64</td>\n",
       "    </tr>\n",
       "    <tr>\n",
       "      <th>1</th>\n",
       "      <td>217 0.5083597 0.40743363 0.7144756 -1.242985 -...</td>\n",
       "    </tr>\n",
       "    <tr>\n",
       "      <th>2</th>\n",
       "      <td>650 0.22670893 0.021896597 -0.14305055 -0.6591...</td>\n",
       "    </tr>\n",
       "    <tr>\n",
       "      <th>3</th>\n",
       "      <td>377 0.19525497 0.582358 0.1646906 -0.80686563 ...</td>\n",
       "    </tr>\n",
       "    <tr>\n",
       "      <th>4</th>\n",
       "      <td>57 -0.50423735 -0.67866814 0.20260465 -0.14068...</td>\n",
       "    </tr>\n",
       "    <tr>\n",
       "      <th>...</th>\n",
       "      <td>...</td>\n",
       "    </tr>\n",
       "    <tr>\n",
       "      <th>2220</th>\n",
       "      <td>429 0.4495843 0.27927622 0.9138314 -2.119679 -...</td>\n",
       "    </tr>\n",
       "    <tr>\n",
       "      <th>2221</th>\n",
       "      <td>1281 -1.1306024 1.0658451 -0.45200333 -1.10590...</td>\n",
       "    </tr>\n",
       "    <tr>\n",
       "      <th>2222</th>\n",
       "      <td>669 -0.02697037 0.014903488 -1.2228172 0.29446...</td>\n",
       "    </tr>\n",
       "    <tr>\n",
       "      <th>2223</th>\n",
       "      <td>903 -1.050806 0.1854059 -0.5800011 -1.5143213 ...</td>\n",
       "    </tr>\n",
       "    <tr>\n",
       "      <th>2224</th>\n",
       "      <td>133 0.77323127 0.7057826 0.867303 -0.02012687 ...</td>\n",
       "    </tr>\n",
       "  </tbody>\n",
       "</table>\n",
       "<p>2225 rows × 1 columns</p>\n",
       "</div>"
      ]
     },
     "execution_count": 10,
     "metadata": {},
     "output_type": "execute_result"
    }
   ],
   "execution_count": 10
  },
  {
   "metadata": {
    "ExecuteTime": {
     "end_time": "2025-01-17T02:26:07.306712Z",
     "start_time": "2025-01-17T02:26:07.300302Z"
    }
   },
   "cell_type": "code",
   "source": "se.shape",
   "id": "5cd450af2d82def",
   "outputs": [
    {
     "data": {
      "text/plain": [
       "(2225, 1)"
      ]
     },
     "execution_count": 18,
     "metadata": {},
     "output_type": "execute_result"
    }
   ],
   "execution_count": 18
  },
  {
   "metadata": {},
   "cell_type": "code",
   "outputs": [],
   "execution_count": null,
   "source": "se.iloc[1]",
   "id": "933b1bba50147d2d"
  }
 ],
 "metadata": {
  "kernelspec": {
   "display_name": "Python 3",
   "language": "python",
   "name": "python3"
  },
  "language_info": {
   "codemirror_mode": {
    "name": "ipython",
    "version": 2
   },
   "file_extension": ".py",
   "mimetype": "text/x-python",
   "name": "python",
   "nbconvert_exporter": "python",
   "pygments_lexer": "ipython2",
   "version": "2.7.6"
  }
 },
 "nbformat": 4,
 "nbformat_minor": 5
}
